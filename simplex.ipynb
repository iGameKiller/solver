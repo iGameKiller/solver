{
 "cells": [
  {
   "cell_type": "markdown",
   "id": "75e793ff",
   "metadata": {},
   "source": [
    "![IFMG](https://storage.googleapis.com/ifmg/IFMG.png)\n",
    "\n",
    "---\n",
    "# Pesquisa Operacional - Trabalho Simplex (Prova 02)\n",
    "\n",
    "\n",
    "### **Professor: Felipe Reis**\n",
    "\n",
    "#### **Data: 15-11-2021**\n",
    "\n",
    "---"
   ]
  },
  {
   "cell_type": "code",
   "execution_count": 1,
   "id": "b2cd4b4d",
   "metadata": {},
   "outputs": [],
   "source": [
    "import numpy as np\n",
    "import solver as simplex"
   ]
  },
  {
   "cell_type": "code",
   "execution_count": 2,
   "id": "22e307f1",
   "metadata": {},
   "outputs": [],
   "source": [
    "#comandos para atualizar automaticamente a função solver\n",
    "#evita obrigatoriedade de importar arquivo novamente (Jupyter / Colab)\n",
    "%load_ext autoreload\n",
    "%autoreload 2"
   ]
  },
  {
   "cell_type": "markdown",
   "id": "8d783549",
   "metadata": {},
   "source": [
    "## Requisitos Obrigatórios\n",
    "\n",
    "O Solver Simplex deverá ser implementado **obrigatoriamente** no arquivo `solver.py`\n",
    "\n",
    "A entrega não deve ser feita, sob nenhuma hipótese, em arquivos Jupyter / Colab.\n",
    "\n",
    "O presente arquivo, `simplex.ipynb`, corresponde a apenas uma referência para auxiliar no processo de desenvolvimento do algoritmo."
   ]
  },
  {
   "cell_type": "markdown",
   "id": "7af55ca0",
   "metadata": {},
   "source": [
    "---\n",
    "## Método Solver\n",
    "\n",
    "O método `Solver` deve ser implementado seguindo a estrutura indicada no arquivo `solver.py`, conforme estrutura abaixo.\n",
    "\n",
    "```\n",
    "def solver(objet, f_obj, restr_A, restr_op, restr_b, verbose=False):\n",
    "    \"\"\"\n",
    "    Função para solução de problemas de programação linear\n",
    "    Deve ser implementada para solução de PPL usando métodos Simplex e Simplex Duas Fases.\n",
    "    Parâmetros:\n",
    "    : param objet:    string, contendo indicação de 'MA' (para maximização) ou 'MI' (para minimização)\n",
    "    : param f_obj:    np.array float, contendo a função objetivo\n",
    "    : param restr_A:  np.array float, contendo a matriz A das restrições\n",
    "    : param restr_op: np.array string, contendo o vetor de operadores das restrições\n",
    "    : param restr_b:  np.array float, contendo o vetor b das restrições\n",
    "    : param verbose:  booleano opcional para impressão de valores intermediários (não obrigatório)\n",
    "    : return:         np.array contendo os valores das variáveis (não retornar valor da função objetivo)\n",
    "    \"\"\"\n",
    "```\n",
    "\n",
    "Todos os parâmetros recebidos pelo método deverão ser arrays Numpy (`np.array`).\n",
    "\n",
    "Caso o parâmetros não seja do tipo especificado, o método retornará mensagem de erro.\n",
    "\n",
    "Referências: https://numpy.org/doc/stable/reference/generated/numpy.ndarray.html"
   ]
  },
  {
   "cell_type": "markdown",
   "id": "a0b1e8a6",
   "metadata": {},
   "source": [
    "#### Exemplo 1 - Parâmetros Adequados"
   ]
  },
  {
   "cell_type": "code",
   "execution_count": 3,
   "id": "51af74d0",
   "metadata": {
    "scrolled": true
   },
   "outputs": [
    {
     "name": "stdout",
     "output_type": "stream",
     "text": [
      "Solver Simplex IFMG\n"
     ]
    }
   ],
   "source": [
    "simplex.solver(objet    = 'MA',\n",
    "               f_obj    = np.array([[3., 2.]]), \n",
    "               restr_A  = np.array([[1., 1.], [5., 2.]]), \n",
    "               restr_op = np.array([['<='], ['<=']]), \n",
    "               restr_b  = np.array([[6.], [20.]]), \n",
    "               verbose  = True)"
   ]
  },
  {
   "cell_type": "markdown",
   "id": "c767aec1",
   "metadata": {},
   "source": [
    "#### Exemplo 2 - Parâmetros Inadequados"
   ]
  },
  {
   "cell_type": "code",
   "execution_count": 4,
   "id": "bc0c174f",
   "metadata": {
    "scrolled": false
   },
   "outputs": [
    {
     "ename": "TypeError",
     "evalue": "Parâmetro \"f_obj\" diferente do especificado.",
     "output_type": "error",
     "traceback": [
      "\u001b[0;31m---------------------------------------------------------------------------\u001b[0m",
      "\u001b[0;31mTypeError\u001b[0m                                 Traceback (most recent call last)",
      "\u001b[0;32m<ipython-input-4-a4af0d3de2ec>\u001b[0m in \u001b[0;36m<module>\u001b[0;34m\u001b[0m\n\u001b[0;32m----> 1\u001b[0;31m simplex.solver(objet    = 'MA',\n\u001b[0m\u001b[1;32m      2\u001b[0m                \u001b[0mf_obj\u001b[0m    \u001b[0;34m=\u001b[0m \u001b[0;34m[\u001b[0m\u001b[0;36m3.\u001b[0m\u001b[0;34m,\u001b[0m \u001b[0;36m2.\u001b[0m\u001b[0;34m]\u001b[0m\u001b[0;34m,\u001b[0m  \u001b[0;31m#array comum = erro\u001b[0m\u001b[0;34m\u001b[0m\u001b[0;34m\u001b[0m\u001b[0m\n\u001b[1;32m      3\u001b[0m                \u001b[0mrestr_A\u001b[0m  \u001b[0;34m=\u001b[0m \u001b[0mnp\u001b[0m\u001b[0;34m.\u001b[0m\u001b[0marray\u001b[0m\u001b[0;34m(\u001b[0m\u001b[0;34m[\u001b[0m\u001b[0;34m[\u001b[0m\u001b[0;36m1.\u001b[0m\u001b[0;34m,\u001b[0m \u001b[0;36m1.\u001b[0m\u001b[0;34m]\u001b[0m\u001b[0;34m,\u001b[0m \u001b[0;34m[\u001b[0m\u001b[0;36m5.\u001b[0m\u001b[0;34m,\u001b[0m \u001b[0;36m2.\u001b[0m\u001b[0;34m]\u001b[0m\u001b[0;34m]\u001b[0m\u001b[0;34m)\u001b[0m\u001b[0;34m,\u001b[0m\u001b[0;34m\u001b[0m\u001b[0;34m\u001b[0m\u001b[0m\n\u001b[1;32m      4\u001b[0m                \u001b[0mrestr_op\u001b[0m \u001b[0;34m=\u001b[0m \u001b[0mnp\u001b[0m\u001b[0;34m.\u001b[0m\u001b[0marray\u001b[0m\u001b[0;34m(\u001b[0m\u001b[0;34m[\u001b[0m\u001b[0;34m[\u001b[0m\u001b[0;34m'<='\u001b[0m\u001b[0;34m]\u001b[0m\u001b[0;34m,\u001b[0m \u001b[0;34m[\u001b[0m\u001b[0;34m'<='\u001b[0m\u001b[0;34m]\u001b[0m\u001b[0;34m]\u001b[0m\u001b[0;34m)\u001b[0m\u001b[0;34m,\u001b[0m\u001b[0;34m\u001b[0m\u001b[0;34m\u001b[0m\u001b[0m\n\u001b[1;32m      5\u001b[0m                \u001b[0mrestr_b\u001b[0m  \u001b[0;34m=\u001b[0m \u001b[0mnp\u001b[0m\u001b[0;34m.\u001b[0m\u001b[0marray\u001b[0m\u001b[0;34m(\u001b[0m\u001b[0;34m[\u001b[0m\u001b[0;34m[\u001b[0m\u001b[0;36m6.\u001b[0m\u001b[0;34m]\u001b[0m\u001b[0;34m,\u001b[0m \u001b[0;34m[\u001b[0m\u001b[0;36m20.\u001b[0m\u001b[0;34m]\u001b[0m\u001b[0;34m]\u001b[0m\u001b[0;34m)\u001b[0m\u001b[0;34m,\u001b[0m\u001b[0;34m\u001b[0m\u001b[0;34m\u001b[0m\u001b[0m\n",
      "\u001b[0;32m/IFMG/ifmg-aulas/2021-02/pesq_operacional/trabalho_simplex/python/solver.py\u001b[0m in \u001b[0;36msolver\u001b[0;34m(objet, f_obj, restr_A, restr_op, restr_b, verbose)\u001b[0m\n\u001b[1;32m     25\u001b[0m \u001b[0;34m\u001b[0m\u001b[0m\n\u001b[1;32m     26\u001b[0m     \u001b[0;32mif\u001b[0m \u001b[0;32mnot\u001b[0m \u001b[0misinstance\u001b[0m\u001b[0;34m(\u001b[0m\u001b[0mf_obj\u001b[0m\u001b[0;34m,\u001b[0m \u001b[0mnp\u001b[0m\u001b[0;34m.\u001b[0m\u001b[0mndarray\u001b[0m\u001b[0;34m)\u001b[0m\u001b[0;34m:\u001b[0m\u001b[0;34m\u001b[0m\u001b[0;34m\u001b[0m\u001b[0m\n\u001b[0;32m---> 27\u001b[0;31m         \u001b[0;32mraise\u001b[0m \u001b[0mTypeError\u001b[0m\u001b[0;34m(\u001b[0m\u001b[0;34m'Parâmetro \"f_obj\" diferente do especificado.'\u001b[0m\u001b[0;34m)\u001b[0m\u001b[0;34m\u001b[0m\u001b[0;34m\u001b[0m\u001b[0m\n\u001b[0m\u001b[1;32m     28\u001b[0m \u001b[0;34m\u001b[0m\u001b[0m\n\u001b[1;32m     29\u001b[0m     \u001b[0;32mif\u001b[0m \u001b[0;32mnot\u001b[0m \u001b[0misinstance\u001b[0m\u001b[0;34m(\u001b[0m\u001b[0mrestr_A\u001b[0m\u001b[0;34m,\u001b[0m \u001b[0mnp\u001b[0m\u001b[0;34m.\u001b[0m\u001b[0mndarray\u001b[0m\u001b[0;34m)\u001b[0m\u001b[0;34m:\u001b[0m\u001b[0;34m\u001b[0m\u001b[0;34m\u001b[0m\u001b[0m\n",
      "\u001b[0;31mTypeError\u001b[0m: Parâmetro \"f_obj\" diferente do especificado."
     ]
    }
   ],
   "source": [
    "simplex.solver(objet    = 'MA',\n",
    "               f_obj    = [3., 2.],  #array comum = erro\n",
    "               restr_A  = np.array([[1., 1.], [5., 2.]]), \n",
    "               restr_op = np.array([['<='], ['<=']]), \n",
    "               restr_b  = np.array([[6.], [20.]]), \n",
    "               verbose  = True)"
   ]
  },
  {
   "cell_type": "markdown",
   "id": "2359ddaa",
   "metadata": {},
   "source": [
    "---\n",
    "## Arquivo de Entrada\n",
    "\n",
    "O arquivo de entrada contém os problemas de programação linear.\n",
    "\n",
    "Cada linha do arquivo contém um problema. As linhas iniciadas com o caractere `'#'` correspondem a comentários e devem ser ignoradas.\n",
    "\n",
    "As linhas possuem a seguinte estrutura:\n",
    "\n",
    "* Função Objetivo\n",
    " * Indicador `MA` ou `MI`, para maximização e minimização, respectivamente, seguido de array\n",
    " * Array contém o coeficientes da função objetivo\n",
    "\n",
    "\n",
    "* Função Objetivo\n",
    " * Array correspondente à função objetivo\n",
    " \n",
    " \n",
    "* Restrições (RE)\n",
    " * Indicador de restrições (RE) seguido de arrays\n",
    " * Arrays (1 ou múltiplos, separados por `,`) contendo coeficientes das restrições e operadores\n",
    " * Dentro dos arrays, os valores estão separados por espaço simples\n",
    " * Operadores utilizam sempre dois caracteres: `==`, `<=` ou `>=`\n",
    " * Não há espaçamento entre a sigla `RE` e o primeiro array \n",
    " \n",
    " \n",
    "* Solução Função Objetivo (SF)\n",
    " * Indicador de solução da função objetivo (SF) seguido de array\n",
    " * Array contém o resultado da função objetivo\n",
    " * *Deve ser utilizado somente para simples conferência. Não deve ser passado como parâmetro para a função Solver.*\n",
    " \n",
    " \n",
    "* Solução das Variáveis (SV)\n",
    " * Indicador de solução das restrições (SV) seguido de array\n",
    " * Array contém os valores das variáveis\n",
    " * *Deve ser utilizado somente para simples conferência. Não deve ser passado como parâmetro para a função Solver.*\n",
    "\n",
    "\n",
    "#### Informações Adicionais\n",
    "\n",
    "1. O código deve ser genérico, não devendo funcionar apenas para os problemas existentes no arquivo exemplo.\n",
    "\n",
    "2. Será utilizado um arquivo extra, com mais problemas, que devem ser solucionados pelo algoritmo.\n",
    "\n",
    "3. Todos os problemas serão factíveis. Não se preocupar com problemas não factíveis.\n",
    "\n",
    "4. Informações de solução da Função Objetivo e Variáveis não devem ser passadas como parâmetros, sob nenhuma hipótese, para a função *solver*."
   ]
  },
  {
   "cell_type": "markdown",
   "id": "4d6799b8",
   "metadata": {},
   "source": [
    "#### Arquivo de Testes\n",
    "\n",
    "O arquivo de testes pode ser visualizado com o código abaixo."
   ]
  },
  {
   "cell_type": "code",
   "execution_count": 18,
   "id": "0ca6a8b6",
   "metadata": {},
   "outputs": [
    {
     "name": "stdout",
     "output_type": "stream",
     "text": [
      "MA[3 2] RE[1 1 <= 6], [5 2 <= 20] SF[14.67] SV[2.67 3.33]\n",
      "MI[4 -2] RE[2 1 <= 10], [1 -1 <= 8] SF[-20] SV[10 18]\n",
      "MA[5 4] RE[6 4 <= 24], [1 2 <= 6], [-1 1 <= 1], [0 1 <=2] SF[21] SV[3 1.5]\n",
      "MA[1000 1800] RE[20 30 <= 1200], [1 0 <= 40], [0 1 <= 30] SF[69000] SV[15 30]\n",
      "MA[80 60] RE[4 6 <= 24], [4 2 <= 16], [0 1 <= 3] SF[360] SV[3 2]\n",
      "MA[600 800 900 500] RE[1 1 1 1 <= 400], [1000 1200 1200 1500 <= 500000], [20 30 25 28 <= 10000] SF[360000] SV[0 0 400 0]\n",
      "MI[3 2.5] RE[4 8 >= 32], [6 6 >= 36] SF[15] SV[0 6]\n",
      "MA[9 8] RE[4 2 <= 16], [1 1 <= 5], [1 0 >= 1], [0 1 <= 3] SF[43] SV[3 2]\n",
      "MA[5 8] RE[2 1 <= 5], [-1 2 >= 3], [1 0 <= 1], [0 1 >= 1] SF[40] SV[0 5]\n",
      "MA[12 20] RE[0 1 >= 1], [3 2 >= 6], [1 1 <= 5], [0 1 <= 3] SF[84] SV[2 3]\n",
      "MA[8 10] RE[2 2 <= 6], [4 1 >= 4], [3 1 <= 5], [0 1 >= 1] SF[16] SV[0.75 1]\n",
      "MI[20 25 25 25] RE[1 0 1 == 500], [0 1 0 1 == 1000], [1 0 0 0 == 400], [0 1 0 0 == 800], [0 0 1 1 == 600] SF[35500] SV[400 800 100 200]"
     ]
    }
   ],
   "source": [
    "f = open(\"problemas.txt\",\"r\")\n",
    "lines = f.readlines()\n",
    "\n",
    "for l in lines:\n",
    "    if(l[0] != '#'):     #ignorar linhas iniciadas com o caractere '#'\n",
    "        print(l, end='')"
   ]
  },
  {
   "cell_type": "markdown",
   "id": "6405eea3",
   "metadata": {},
   "source": [
    "#### Transformação em PPL\n",
    "\n",
    "A primeira linha do arquivo pode ser traduzida em um Problema de Programação Linear.\n",
    "\n",
    "##### Linha Exemplo\n",
    "\n",
    "`MA[3 2] RE[1 1 <= 6], [5 2 <= 20] SF[14.67] SV[2.67 3.33]`\n",
    "\n",
    "##### Problema Programação Linear\n",
    "\n",
    "$ max~z = 3 x_1 + 2 x_2 $\n",
    "\n",
    "$ suj. a $\n",
    "\n",
    "$ \\qquad 1 x_1 + 1 x_2 \\le 6 $\n",
    "\n",
    "$ \\qquad 5 x_1 + 2 x_2 \\le 20 $\n",
    "\n",
    "$ \\qquad x_1, x_2 \\ge 0 $"
   ]
  },
  {
   "cell_type": "markdown",
   "id": "998c32ea",
   "metadata": {},
   "source": [
    "##### Representação em Matrizes e Vetores\n",
    "\n",
    "A linha pode ser transformadas nos vetores abaixo:"
   ]
  },
  {
   "cell_type": "code",
   "execution_count": 19,
   "id": "ef22e3fb",
   "metadata": {
    "scrolled": false
   },
   "outputs": [
    {
     "name": "stdout",
     "output_type": "stream",
     "text": [
      "Objetivo: MAXIMIZAR\n",
      "\n",
      "Função objetivo: \n",
      " [[3. 2.]]\n",
      "\n",
      "Matriz Restrições A: \n",
      " [[1. 1.]\n",
      " [5. 2.]]\n",
      "\n",
      "Matriz Restrições op: \n",
      " [['<=' '<=']]\n",
      "\n",
      "Matriz Restrições b: \n",
      " [[ 6. 20.]]\n",
      "\n",
      "\n"
     ]
    }
   ],
   "source": [
    "objet    = 'MA'\n",
    "f_obj    = np.array([[3., 2.]])\n",
    "restr_A  = np.array([[1., 1.], [5., 2.]])\n",
    "restr_op = np.array([['<=', '<=']])  #array em formato linha (para formato coluna, utilize restr_op.transpose())\n",
    "restr_b  = np.array([[6., 20.]])     #array em formato linha (para formato coluna, utilize restr_b.transpose())\n",
    "\n",
    "print('Objetivo:', 'MAXIMIZAR' if objet == 'MA' else 'MINIMIZAR', end='\\n\\n')\n",
    "print('Função objetivo: \\n', f_obj, end='\\n\\n')\n",
    "print('Matriz Restrições A: \\n', restr_A, end='\\n\\n')\n",
    "print('Matriz Restrições op: \\n', restr_op, end='\\n\\n')\n",
    "print('Matriz Restrições b: \\n', restr_b, end='\\n\\n')\n",
    "print()"
   ]
  },
  {
   "cell_type": "markdown",
   "id": "07fc5e37",
   "metadata": {},
   "source": [
    "##### Processamento da linha com Solver\n",
    "\n",
    "A linha pode ser processada pelo Solver com auxílio do código abaixo."
   ]
  },
  {
   "cell_type": "code",
   "execution_count": 21,
   "id": "d2e2b184",
   "metadata": {},
   "outputs": [
    {
     "name": "stdout",
     "output_type": "stream",
     "text": [
      "Solver Simplex IFMG\n"
     ]
    }
   ],
   "source": [
    "simplex.solver(objet    = objet,\n",
    "               f_obj    = f_obj,\n",
    "               restr_A  = restr_A,\n",
    "               restr_op = restr_op,\n",
    "               restr_b  = restr_b,\n",
    "               verbose  = True)"
   ]
  },
  {
   "cell_type": "markdown",
   "id": "d0b30685",
   "metadata": {},
   "source": [
    "---\n",
    "## Simplex Tableau\n",
    "\n",
    "Para solução dos problemas, devem ser criada uma matriz correspondente ao Simplex Tableau.\n",
    "\n",
    "O Tableau deve, **obrigatoriamente**, seguir o modelo adotado na disciplina e disponível nos slides de aula.\n",
    "\n",
    "O parâmetro `verbose` deve permitir a impressão do Tableau, passo a passo."
   ]
  },
  {
   "cell_type": "markdown",
   "id": "69ed22b7",
   "metadata": {},
   "source": [
    "#### Adição de colunas em uma matriz\n",
    "\n",
    "O link abaixo exemplifica o mecanismo para adição de colunas em uma array Numpy.\n",
    "\n",
    "https://stackoverflow.com/questions/8486294/how-to-add-an-extra-column-to-a-numpy-array"
   ]
  },
  {
   "cell_type": "code",
   "execution_count": 36,
   "id": "43e1c189",
   "metadata": {},
   "outputs": [
    {
     "name": "stdout",
     "output_type": "stream",
     "text": [
      "Matriz A\n",
      "[[1. 1.]\n",
      " [5. 2.]]\n",
      "\n",
      "Matriz A + 1 coluna\n",
      "[[1. 1. 0.]\n",
      " [5. 2. 0.]]\n",
      "\n",
      "Matriz A + 2 colunas\n",
      "[[1. 1. 0. 0.]\n",
      " [5. 2. 0. 0.]]\n"
     ]
    }
   ],
   "source": [
    "len_A = len(restr_A[0]) #número de colunas da restrição A\n",
    "\n",
    "print('Matriz A')\n",
    "print(restr_A)\n",
    "print()\n",
    "\n",
    "print('Matriz A + 1 coluna')\n",
    "exp_A = np.c_[restr_A, np.zeros(len_A)] #1 coluna\n",
    "print(exp_A)\n",
    "print()\n",
    "\n",
    "print('Matriz A + 2 colunas')\n",
    "exp_A = np.c_[restr_A, np.zeros(len_A), np.zeros(len_A)] #1 coluna\n",
    "print(exp_A)"
   ]
  },
  {
   "cell_type": "markdown",
   "id": "9bb1a4cd",
   "metadata": {},
   "source": [
    "### Exemplo Simplex Tableau\n",
    "\n",
    "O PPL usado como exemplo pode ser transformado em um Tableau Simplex."
   ]
  },
  {
   "cell_type": "code",
   "execution_count": 22,
   "id": "041248a3",
   "metadata": {},
   "outputs": [
    {
     "name": "stdout",
     "output_type": "stream",
     "text": [
      "Tableau:\n",
      "[[ 0. -3. -2.  0.  0.]\n",
      " [ 6.  1.  1.  1.  0.]\n",
      " [20.  5.  2.  0.  1.]]\n",
      "\n",
      "Base: [0.0, 0.0, 1.0, 1.0]\n"
     ]
    }
   ],
   "source": [
    "tableau = np.array([[0. , -3., -2., 0., 0.],\n",
    "                    [6. ,  1.,  1., 1., 0.],\n",
    "                    [20.,  5.,  2., 0., 1.]]\n",
    "                  )\n",
    "\n",
    "print('Tableau:')\n",
    "print(tableau)\n",
    "\n",
    "print()\n",
    "print('Base:', [0., 0., 1., 1.]) #variáveis de folga x3 e x4 constituem a base"
   ]
  },
  {
   "cell_type": "markdown",
   "id": "b3f5fde0",
   "metadata": {},
   "source": [
    "##### Iteração 1\n",
    "\n",
    "Na primeira iteração (slides 39-54 do material de aula), define-se que $x_1$, entrará na base no local de $x_4$ (linha $L_2$).\n",
    "\n",
    "A operação da primeira iteração pode ser especificada no código abaixo."
   ]
  },
  {
   "cell_type": "code",
   "execution_count": 23,
   "id": "b72383b5",
   "metadata": {},
   "outputs": [
    {
     "name": "stdout",
     "output_type": "stream",
     "text": [
      "[ 0. -3. -2.  0.  0.]\n",
      "[6. 1. 1. 1. 0.]\n",
      "[20.  5.  2.  0.  1.]\n",
      "\n",
      "Linha L2: [4.  1.  0.4 0.  0.2]\n",
      "Linha L0: [12.   0.  -0.8  0.   0.6]\n",
      "Linha L1: [ 2.   0.   0.6  1.  -0.2]\n",
      "\n",
      "Tableau:\n",
      " [[12.   0.  -0.8  0.   0.6]\n",
      " [ 2.   0.   0.6  1.  -0.2]\n",
      " [ 4.   1.   0.4  0.   0.2]]\n"
     ]
    }
   ],
   "source": [
    "tableau = np.array([[0., -3., -2., 0., 0.],[6., 1., 1., 1., 0.], [20., 5., 2., 0., 1.]])\n",
    "\n",
    "#definição das linhas\n",
    "L0 = tableau[0,:]\n",
    "L1 = tableau[1,:]\n",
    "L2 = tableau[2,:]\n",
    "\n",
    "print(L0)\n",
    "print(L1)\n",
    "print(L2)\n",
    "print()\n",
    "\n",
    "#gauss-jordan linha 2\n",
    "L2 = tableau[2,:] / 5\n",
    "print('Linha L2:', L2)\n",
    "\n",
    "#gauss-jordan linha 0\n",
    "L0 = L0 + 3*L2\n",
    "print('Linha L0:', L0)\n",
    "\n",
    "#gauss-jordan linha 1\n",
    "L1 = L1 - 1*L2\n",
    "print('Linha L1:', L1)\n",
    "\n",
    "#atualização do Tableau (1a iteração)\n",
    "tableau[0, :] = L0\n",
    "tableau[1, :] = L1\n",
    "tableau[2, :] = L2\n",
    "print()\n",
    "print('Tableau:\\n', tableau)"
   ]
  },
  {
   "cell_type": "markdown",
   "id": "744bcba5",
   "metadata": {},
   "source": [
    "---\n",
    "## Funções Úteis\n",
    "\n",
    "As funções abaixo podem auxiliar na transformação das informações existentes nos arquivos em matrizes."
   ]
  },
  {
   "cell_type": "code",
   "execution_count": 24,
   "id": "e995c55d",
   "metadata": {},
   "outputs": [
    {
     "name": "stdout",
     "output_type": "stream",
     "text": [
      "MA[3 2]\n",
      "RE[1 1 <= 6], [5 2 <= 20] \n",
      "SF[14.67] \n",
      "SV[2.67 3.33]\n",
      "\n",
      "['[1', '1', '<=', '6]']\n",
      "['[5', '2', '<=', '20]']\n"
     ]
    }
   ],
   "source": [
    "txt = 'MA[3 2] RE[1 1 <= 6], [5 2 <= 20] SF[14.67] SV[2.67 3.33]'\n",
    "\n",
    "#índices (posições) de expressões em strings\n",
    "ind_fo = txt.index('R')\n",
    "ind_re = txt.index('SF')\n",
    "ind_sf = txt.index('SV')\n",
    "\n",
    "#substring\n",
    "fo = txt[0 : ind_fo-1]\n",
    "re = txt[ind_fo : ind_re]\n",
    "sf = txt[ind_re : ind_sf]\n",
    "sv = txt[ind_sf :]\n",
    "\n",
    "#impressão de dados\n",
    "print(fo)\n",
    "print(re)\n",
    "print(sf)\n",
    "print(sv)\n",
    "\n",
    "#conversão de restrições em matrizes de string\n",
    "print()\n",
    "re_split = re[2:].split(',')\n",
    "for i in re_split:\n",
    "    print(i.split())"
   ]
  },
  {
   "cell_type": "code",
   "execution_count": null,
   "id": "7615b508",
   "metadata": {},
   "outputs": [],
   "source": []
  }
 ],
 "metadata": {
  "kernelspec": {
   "display_name": "Python 3",
   "language": "python",
   "name": "python3"
  },
  "language_info": {
   "codemirror_mode": {
    "name": "ipython",
    "version": 3
   },
   "file_extension": ".py",
   "mimetype": "text/x-python",
   "name": "python",
   "nbconvert_exporter": "python",
   "pygments_lexer": "ipython3",
   "version": "3.8.3"
  }
 },
 "nbformat": 4,
 "nbformat_minor": 5
}
